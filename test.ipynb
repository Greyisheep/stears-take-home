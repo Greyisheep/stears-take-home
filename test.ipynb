{
 "cells": [
  {
   "cell_type": "markdown",
   "metadata": {},
   "source": [
    "# Stears Data Intern Screening"
   ]
  },
  {
   "cell_type": "code",
   "execution_count": 1,
   "metadata": {},
   "outputs": [],
   "source": [
    "import pandas as pd"
   ]
  },
  {
   "cell_type": "code",
   "execution_count": 2,
   "metadata": {},
   "outputs": [],
   "source": [
    "# Read the CSV file\n",
    "df = pd.read_csv('Data for screening test - Candidates.csv')"
   ]
  },
  {
   "cell_type": "code",
   "execution_count": 3,
   "metadata": {},
   "outputs": [
    {
     "data": {
      "text/html": [
       "<div>\n",
       "<style scoped>\n",
       "    .dataframe tbody tr th:only-of-type {\n",
       "        vertical-align: middle;\n",
       "    }\n",
       "\n",
       "    .dataframe tbody tr th {\n",
       "        vertical-align: top;\n",
       "    }\n",
       "\n",
       "    .dataframe thead th {\n",
       "        text-align: right;\n",
       "    }\n",
       "</style>\n",
       "<table border=\"1\" class=\"dataframe\">\n",
       "  <thead>\n",
       "    <tr style=\"text-align: right;\">\n",
       "      <th></th>\n",
       "      <th>state</th>\n",
       "      <th>race</th>\n",
       "      <th>candidate</th>\n",
       "      <th>gender</th>\n",
       "      <th>is_incumbent</th>\n",
       "      <th>party</th>\n",
       "    </tr>\n",
       "  </thead>\n",
       "  <tbody>\n",
       "    <tr>\n",
       "      <th>0</th>\n",
       "      <td>Oyo</td>\n",
       "      <td>governor</td>\n",
       "      <td>Abba Adigun</td>\n",
       "      <td>Male</td>\n",
       "      <td>Yes</td>\n",
       "      <td>LP</td>\n",
       "    </tr>\n",
       "    <tr>\n",
       "      <th>1</th>\n",
       "      <td>Fct</td>\n",
       "      <td>governor</td>\n",
       "      <td>Abba Sidi Ahmed</td>\n",
       "      <td>Male</td>\n",
       "      <td>No</td>\n",
       "      <td>APM</td>\n",
       "    </tr>\n",
       "    <tr>\n",
       "      <th>2</th>\n",
       "      <td>Kogi</td>\n",
       "      <td>governor</td>\n",
       "      <td>Abdul Mayo Nyako</td>\n",
       "      <td>Male</td>\n",
       "      <td>No</td>\n",
       "      <td>YPP</td>\n",
       "    </tr>\n",
       "    <tr>\n",
       "      <th>3</th>\n",
       "      <td>Niger</td>\n",
       "      <td>governor</td>\n",
       "      <td>Abdul Sule</td>\n",
       "      <td>Male</td>\n",
       "      <td>Yes</td>\n",
       "      <td>ADP</td>\n",
       "    </tr>\n",
       "    <tr>\n",
       "      <th>4</th>\n",
       "      <td>Taraba</td>\n",
       "      <td>governor</td>\n",
       "      <td>Abdulganiyu Saka Olododo</td>\n",
       "      <td>Female</td>\n",
       "      <td>No</td>\n",
       "      <td>AA</td>\n",
       "    </tr>\n",
       "  </tbody>\n",
       "</table>\n",
       "</div>"
      ],
      "text/plain": [
       "    state      race                 candidate  gender is_incumbent party\n",
       "0     Oyo  governor               Abba Adigun    Male          Yes    LP\n",
       "1     Fct  governor           Abba Sidi Ahmed    Male           No   APM\n",
       "2    Kogi  governor          Abdul Mayo Nyako    Male           No   YPP\n",
       "3   Niger  governor                Abdul Sule    Male          Yes   ADP\n",
       "4  Taraba  governor  Abdulganiyu Saka Olododo  Female           No    AA"
      ]
     },
     "execution_count": 3,
     "metadata": {},
     "output_type": "execute_result"
    }
   ],
   "source": [
    "df.head()"
   ]
  },
  {
   "cell_type": "markdown",
   "metadata": {},
   "source": [
    "## 1. How many unique values are there in the \"party\" column?"
   ]
  },
  {
   "cell_type": "code",
   "execution_count": 4,
   "metadata": {},
   "outputs": [
    {
     "name": "stdout",
     "output_type": "stream",
     "text": [
      "Number of unique values in the 'party' column are 31\n"
     ]
    }
   ],
   "source": [
    "# Extract unique values from the column and count occurrences\n",
    "column_to_check = 'party'\n",
    "\n",
    "# Count the number of unique values\n",
    "num_unique_values = len(df[column_to_check].value_counts())\n",
    "\n",
    "# Print the results\n",
    "print(f\"Number of unique values in the '{column_to_check}' column are {num_unique_values}\")"
   ]
  },
  {
   "cell_type": "markdown",
   "metadata": {},
   "source": [
    "## 2. What is the count of rows that have \"Yes\" in the \"is_incumbent\" column?"
   ]
  },
  {
   "cell_type": "code",
   "execution_count": 5,
   "metadata": {},
   "outputs": [
    {
     "name": "stdout",
     "output_type": "stream",
     "text": [
      "Count of rows with 'Yes' in the 'is_incumbent' column are 630\n"
     ]
    }
   ],
   "source": [
    "# Define the value you want to check\n",
    "value_to_check = \"Yes\"\n",
    "\n",
    "# Count the number of rows with the specified value in the \"is_incumbent\" column\n",
    "count_of_rows = (df['is_incumbent'] == value_to_check).sum()\n",
    "\n",
    "# Print the result\n",
    "print(f\"Count of rows with '{value_to_check}' in the 'is_incumbent' column are {count_of_rows}\")\n"
   ]
  },
  {
   "cell_type": "markdown",
   "metadata": {},
   "source": [
    "## 3. How many completely unique records are there in the dataset?"
   ]
  },
  {
   "cell_type": "code",
   "execution_count": 6,
   "metadata": {},
   "outputs": [
    {
     "name": "stdout",
     "output_type": "stream",
     "text": [
      "Number of deduplicated rows are 3474\n"
     ]
    }
   ],
   "source": [
    "# Count the number of rows in the deduplicated DataFrame\n",
    "num_deduplicated_rows = len(df.drop_duplicates())\n",
    "\n",
    "# Display the deduplicated DataFrame and the count of deduplicated rows\n",
    "print(f\"Number of deduplicated rows are {num_deduplicated_rows}\")"
   ]
  }
 ],
 "metadata": {
  "kernelspec": {
   "display_name": "venv",
   "language": "python",
   "name": "python3"
  },
  "language_info": {
   "codemirror_mode": {
    "name": "ipython",
    "version": 3
   },
   "file_extension": ".py",
   "mimetype": "text/x-python",
   "name": "python",
   "nbconvert_exporter": "python",
   "pygments_lexer": "ipython3",
   "version": "3.12.1"
  }
 },
 "nbformat": 4,
 "nbformat_minor": 2
}
